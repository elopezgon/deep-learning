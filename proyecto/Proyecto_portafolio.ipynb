{
  "nbformat": 4,
  "nbformat_minor": 0,
  "metadata": {
    "colab": {
      "name": "Proyecto_portafolio.ipynb",
      "provenance": [],
      "collapsed_sections": [],
      "toc_visible": true
    },
    "kernelspec": {
      "name": "python3",
      "display_name": "Python 3"
    }
  },
  "cells": [
    {
      "cell_type": "markdown",
      "metadata": {
        "id": "nK1r6XaRPPzN",
        "colab_type": "text"
      },
      "source": [
        "# Edgar Adrian López González\n",
        "## 000141236"
      ]
    },
    {
      "cell_type": "markdown",
      "metadata": {
        "id": "IcpJpCEHPZJh",
        "colab_type": "text"
      },
      "source": [
        "El objetivo del examen final es construir un portafolio riesgoso con 7 acciones e invertir en un portafolio completo que maximice tu utilidad.  Considera una tasa libre de riesgo de 5.0%, un premio por riesgo de mercado de 10.0% y un nivel de aversión al riesgo A=3"
      ]
    },
    {
      "cell_type": "code",
      "metadata": {
        "id": "lNSr4jzdPmTX",
        "colab_type": "code",
        "colab": {
          "resources": {
            "http://localhost:8080/nbextensions/google.colab/files.js": {
              "data": "Ly8gQ29weXJpZ2h0IDIwMTcgR29vZ2xlIExMQwovLwovLyBMaWNlbnNlZCB1bmRlciB0aGUgQXBhY2hlIExpY2Vuc2UsIFZlcnNpb24gMi4wICh0aGUgIkxpY2Vuc2UiKTsKLy8geW91IG1heSBub3QgdXNlIHRoaXMgZmlsZSBleGNlcHQgaW4gY29tcGxpYW5jZSB3aXRoIHRoZSBMaWNlbnNlLgovLyBZb3UgbWF5IG9idGFpbiBhIGNvcHkgb2YgdGhlIExpY2Vuc2UgYXQKLy8KLy8gICAgICBodHRwOi8vd3d3LmFwYWNoZS5vcmcvbGljZW5zZXMvTElDRU5TRS0yLjAKLy8KLy8gVW5sZXNzIHJlcXVpcmVkIGJ5IGFwcGxpY2FibGUgbGF3IG9yIGFncmVlZCB0byBpbiB3cml0aW5nLCBzb2Z0d2FyZQovLyBkaXN0cmlidXRlZCB1bmRlciB0aGUgTGljZW5zZSBpcyBkaXN0cmlidXRlZCBvbiBhbiAiQVMgSVMiIEJBU0lTLAovLyBXSVRIT1VUIFdBUlJBTlRJRVMgT1IgQ09ORElUSU9OUyBPRiBBTlkgS0lORCwgZWl0aGVyIGV4cHJlc3Mgb3IgaW1wbGllZC4KLy8gU2VlIHRoZSBMaWNlbnNlIGZvciB0aGUgc3BlY2lmaWMgbGFuZ3VhZ2UgZ292ZXJuaW5nIHBlcm1pc3Npb25zIGFuZAovLyBsaW1pdGF0aW9ucyB1bmRlciB0aGUgTGljZW5zZS4KCi8qKgogKiBAZmlsZW92ZXJ2aWV3IEhlbHBlcnMgZm9yIGdvb2dsZS5jb2xhYiBQeXRob24gbW9kdWxlLgogKi8KKGZ1bmN0aW9uKHNjb3BlKSB7CmZ1bmN0aW9uIHNwYW4odGV4dCwgc3R5bGVBdHRyaWJ1dGVzID0ge30pIHsKICBjb25zdCBlbGVtZW50ID0gZG9jdW1lbnQuY3JlYXRlRWxlbWVudCgnc3BhbicpOwogIGVsZW1lbnQudGV4dENvbnRlbnQgPSB0ZXh0OwogIGZvciAoY29uc3Qga2V5IG9mIE9iamVjdC5rZXlzKHN0eWxlQXR0cmlidXRlcykpIHsKICAgIGVsZW1lbnQuc3R5bGVba2V5XSA9IHN0eWxlQXR0cmlidXRlc1trZXldOwogIH0KICByZXR1cm4gZWxlbWVudDsKfQoKLy8gTWF4IG51bWJlciBvZiBieXRlcyB3aGljaCB3aWxsIGJlIHVwbG9hZGVkIGF0IGEgdGltZS4KY29uc3QgTUFYX1BBWUxPQURfU0laRSA9IDEwMCAqIDEwMjQ7CgpmdW5jdGlvbiBfdXBsb2FkRmlsZXMoaW5wdXRJZCwgb3V0cHV0SWQpIHsKICBjb25zdCBzdGVwcyA9IHVwbG9hZEZpbGVzU3RlcChpbnB1dElkLCBvdXRwdXRJZCk7CiAgY29uc3Qgb3V0cHV0RWxlbWVudCA9IGRvY3VtZW50LmdldEVsZW1lbnRCeUlkKG91dHB1dElkKTsKICAvLyBDYWNoZSBzdGVwcyBvbiB0aGUgb3V0cHV0RWxlbWVudCB0byBtYWtlIGl0IGF2YWlsYWJsZSBmb3IgdGhlIG5leHQgY2FsbAogIC8vIHRvIHVwbG9hZEZpbGVzQ29udGludWUgZnJvbSBQeXRob24uCiAgb3V0cHV0RWxlbWVudC5zdGVwcyA9IHN0ZXBzOwoKICByZXR1cm4gX3VwbG9hZEZpbGVzQ29udGludWUob3V0cHV0SWQpOwp9CgovLyBUaGlzIGlzIHJvdWdobHkgYW4gYXN5bmMgZ2VuZXJhdG9yIChub3Qgc3VwcG9ydGVkIGluIHRoZSBicm93c2VyIHlldCksCi8vIHdoZXJlIHRoZXJlIGFyZSBtdWx0aXBsZSBhc3luY2hyb25vdXMgc3RlcHMgYW5kIHRoZSBQeXRob24gc2lkZSBpcyBnb2luZwovLyB0byBwb2xsIGZvciBjb21wbGV0aW9uIG9mIGVhY2ggc3RlcC4KLy8gVGhpcyB1c2VzIGEgUHJvbWlzZSB0byBibG9jayB0aGUgcHl0aG9uIHNpZGUgb24gY29tcGxldGlvbiBvZiBlYWNoIHN0ZXAsCi8vIHRoZW4gcGFzc2VzIHRoZSByZXN1bHQgb2YgdGhlIHByZXZpb3VzIHN0ZXAgYXMgdGhlIGlucHV0IHRvIHRoZSBuZXh0IHN0ZXAuCmZ1bmN0aW9uIF91cGxvYWRGaWxlc0NvbnRpbnVlKG91dHB1dElkKSB7CiAgY29uc3Qgb3V0cHV0RWxlbWVudCA9IGRvY3VtZW50LmdldEVsZW1lbnRCeUlkKG91dHB1dElkKTsKICBjb25zdCBzdGVwcyA9IG91dHB1dEVsZW1lbnQuc3RlcHM7CgogIGNvbnN0IG5leHQgPSBzdGVwcy5uZXh0KG91dHB1dEVsZW1lbnQubGFzdFByb21pc2VWYWx1ZSk7CiAgcmV0dXJuIFByb21pc2UucmVzb2x2ZShuZXh0LnZhbHVlLnByb21pc2UpLnRoZW4oKHZhbHVlKSA9PiB7CiAgICAvLyBDYWNoZSB0aGUgbGFzdCBwcm9taXNlIHZhbHVlIHRvIG1ha2UgaXQgYXZhaWxhYmxlIHRvIHRoZSBuZXh0CiAgICAvLyBzdGVwIG9mIHRoZSBnZW5lcmF0b3IuCiAgICBvdXRwdXRFbGVtZW50Lmxhc3RQcm9taXNlVmFsdWUgPSB2YWx1ZTsKICAgIHJldHVybiBuZXh0LnZhbHVlLnJlc3BvbnNlOwogIH0pOwp9CgovKioKICogR2VuZXJhdG9yIGZ1bmN0aW9uIHdoaWNoIGlzIGNhbGxlZCBiZXR3ZWVuIGVhY2ggYXN5bmMgc3RlcCBvZiB0aGUgdXBsb2FkCiAqIHByb2Nlc3MuCiAqIEBwYXJhbSB7c3RyaW5nfSBpbnB1dElkIEVsZW1lbnQgSUQgb2YgdGhlIGlucHV0IGZpbGUgcGlja2VyIGVsZW1lbnQuCiAqIEBwYXJhbSB7c3RyaW5nfSBvdXRwdXRJZCBFbGVtZW50IElEIG9mIHRoZSBvdXRwdXQgZGlzcGxheS4KICogQHJldHVybiB7IUl0ZXJhYmxlPCFPYmplY3Q+fSBJdGVyYWJsZSBvZiBuZXh0IHN0ZXBzLgogKi8KZnVuY3Rpb24qIHVwbG9hZEZpbGVzU3RlcChpbnB1dElkLCBvdXRwdXRJZCkgewogIGNvbnN0IGlucHV0RWxlbWVudCA9IGRvY3VtZW50LmdldEVsZW1lbnRCeUlkKGlucHV0SWQpOwogIGlucHV0RWxlbWVudC5kaXNhYmxlZCA9IGZhbHNlOwoKICBjb25zdCBvdXRwdXRFbGVtZW50ID0gZG9jdW1lbnQuZ2V0RWxlbWVudEJ5SWQob3V0cHV0SWQpOwogIG91dHB1dEVsZW1lbnQuaW5uZXJIVE1MID0gJyc7CgogIGNvbnN0IHBpY2tlZFByb21pc2UgPSBuZXcgUHJvbWlzZSgocmVzb2x2ZSkgPT4gewogICAgaW5wdXRFbGVtZW50LmFkZEV2ZW50TGlzdGVuZXIoJ2NoYW5nZScsIChlKSA9PiB7CiAgICAgIHJlc29sdmUoZS50YXJnZXQuZmlsZXMpOwogICAgfSk7CiAgfSk7CgogIGNvbnN0IGNhbmNlbCA9IGRvY3VtZW50LmNyZWF0ZUVsZW1lbnQoJ2J1dHRvbicpOwogIGlucHV0RWxlbWVudC5wYXJlbnRFbGVtZW50LmFwcGVuZENoaWxkKGNhbmNlbCk7CiAgY2FuY2VsLnRleHRDb250ZW50ID0gJ0NhbmNlbCB1cGxvYWQnOwogIGNvbnN0IGNhbmNlbFByb21pc2UgPSBuZXcgUHJvbWlzZSgocmVzb2x2ZSkgPT4gewogICAgY2FuY2VsLm9uY2xpY2sgPSAoKSA9PiB7CiAgICAgIHJlc29sdmUobnVsbCk7CiAgICB9OwogIH0pOwoKICAvLyBXYWl0IGZvciB0aGUgdXNlciB0byBwaWNrIHRoZSBmaWxlcy4KICBjb25zdCBmaWxlcyA9IHlpZWxkIHsKICAgIHByb21pc2U6IFByb21pc2UucmFjZShbcGlja2VkUHJvbWlzZSwgY2FuY2VsUHJvbWlzZV0pLAogICAgcmVzcG9uc2U6IHsKICAgICAgYWN0aW9uOiAnc3RhcnRpbmcnLAogICAgfQogIH07CgogIGNhbmNlbC5yZW1vdmUoKTsKCiAgLy8gRGlzYWJsZSB0aGUgaW5wdXQgZWxlbWVudCBzaW5jZSBmdXJ0aGVyIHBpY2tzIGFyZSBub3QgYWxsb3dlZC4KICBpbnB1dEVsZW1lbnQuZGlzYWJsZWQgPSB0cnVlOwoKICBpZiAoIWZpbGVzKSB7CiAgICByZXR1cm4gewogICAgICByZXNwb25zZTogewogICAgICAgIGFjdGlvbjogJ2NvbXBsZXRlJywKICAgICAgfQogICAgfTsKICB9CgogIGZvciAoY29uc3QgZmlsZSBvZiBmaWxlcykgewogICAgY29uc3QgbGkgPSBkb2N1bWVudC5jcmVhdGVFbGVtZW50KCdsaScpOwogICAgbGkuYXBwZW5kKHNwYW4oZmlsZS5uYW1lLCB7Zm9udFdlaWdodDogJ2JvbGQnfSkpOwogICAgbGkuYXBwZW5kKHNwYW4oCiAgICAgICAgYCgke2ZpbGUudHlwZSB8fCAnbi9hJ30pIC0gJHtmaWxlLnNpemV9IGJ5dGVzLCBgICsKICAgICAgICBgbGFzdCBtb2RpZmllZDogJHsKICAgICAgICAgICAgZmlsZS5sYXN0TW9kaWZpZWREYXRlID8gZmlsZS5sYXN0TW9kaWZpZWREYXRlLnRvTG9jYWxlRGF0ZVN0cmluZygpIDoKICAgICAgICAgICAgICAgICAgICAgICAgICAgICAgICAgICAgJ24vYSd9IC0gYCkpOwogICAgY29uc3QgcGVyY2VudCA9IHNwYW4oJzAlIGRvbmUnKTsKICAgIGxpLmFwcGVuZENoaWxkKHBlcmNlbnQpOwoKICAgIG91dHB1dEVsZW1lbnQuYXBwZW5kQ2hpbGQobGkpOwoKICAgIGNvbnN0IGZpbGVEYXRhUHJvbWlzZSA9IG5ldyBQcm9taXNlKChyZXNvbHZlKSA9PiB7CiAgICAgIGNvbnN0IHJlYWRlciA9IG5ldyBGaWxlUmVhZGVyKCk7CiAgICAgIHJlYWRlci5vbmxvYWQgPSAoZSkgPT4gewogICAgICAgIHJlc29sdmUoZS50YXJnZXQucmVzdWx0KTsKICAgICAgfTsKICAgICAgcmVhZGVyLnJlYWRBc0FycmF5QnVmZmVyKGZpbGUpOwogICAgfSk7CiAgICAvLyBXYWl0IGZvciB0aGUgZGF0YSB0byBiZSByZWFkeS4KICAgIGxldCBmaWxlRGF0YSA9IHlpZWxkIHsKICAgICAgcHJvbWlzZTogZmlsZURhdGFQcm9taXNlLAogICAgICByZXNwb25zZTogewogICAgICAgIGFjdGlvbjogJ2NvbnRpbnVlJywKICAgICAgfQogICAgfTsKCiAgICAvLyBVc2UgYSBjaHVua2VkIHNlbmRpbmcgdG8gYXZvaWQgbWVzc2FnZSBzaXplIGxpbWl0cy4gU2VlIGIvNjIxMTU2NjAuCiAgICBsZXQgcG9zaXRpb24gPSAwOwogICAgd2hpbGUgKHBvc2l0aW9uIDwgZmlsZURhdGEuYnl0ZUxlbmd0aCkgewogICAgICBjb25zdCBsZW5ndGggPSBNYXRoLm1pbihmaWxlRGF0YS5ieXRlTGVuZ3RoIC0gcG9zaXRpb24sIE1BWF9QQVlMT0FEX1NJWkUpOwogICAgICBjb25zdCBjaHVuayA9IG5ldyBVaW50OEFycmF5KGZpbGVEYXRhLCBwb3NpdGlvbiwgbGVuZ3RoKTsKICAgICAgcG9zaXRpb24gKz0gbGVuZ3RoOwoKICAgICAgY29uc3QgYmFzZTY0ID0gYnRvYShTdHJpbmcuZnJvbUNoYXJDb2RlLmFwcGx5KG51bGwsIGNodW5rKSk7CiAgICAgIHlpZWxkIHsKICAgICAgICByZXNwb25zZTogewogICAgICAgICAgYWN0aW9uOiAnYXBwZW5kJywKICAgICAgICAgIGZpbGU6IGZpbGUubmFtZSwKICAgICAgICAgIGRhdGE6IGJhc2U2NCwKICAgICAgICB9LAogICAgICB9OwogICAgICBwZXJjZW50LnRleHRDb250ZW50ID0KICAgICAgICAgIGAke01hdGgucm91bmQoKHBvc2l0aW9uIC8gZmlsZURhdGEuYnl0ZUxlbmd0aCkgKiAxMDApfSUgZG9uZWA7CiAgICB9CiAgfQoKICAvLyBBbGwgZG9uZS4KICB5aWVsZCB7CiAgICByZXNwb25zZTogewogICAgICBhY3Rpb246ICdjb21wbGV0ZScsCiAgICB9CiAgfTsKfQoKc2NvcGUuZ29vZ2xlID0gc2NvcGUuZ29vZ2xlIHx8IHt9OwpzY29wZS5nb29nbGUuY29sYWIgPSBzY29wZS5nb29nbGUuY29sYWIgfHwge307CnNjb3BlLmdvb2dsZS5jb2xhYi5fZmlsZXMgPSB7CiAgX3VwbG9hZEZpbGVzLAogIF91cGxvYWRGaWxlc0NvbnRpbnVlLAp9Owp9KShzZWxmKTsK",
              "ok": true,
              "headers": [
                [
                  "content-type",
                  "application/javascript"
                ]
              ],
              "status": 200,
              "status_text": ""
            }
          },
          "base_uri": "https://localhost:8080/",
          "height": 73
        },
        "outputId": "49073d84-4551-4267-b82a-c9041b1894b6"
      },
      "source": [
        "#Seleccionar archivo donde se encuentran los activos financieros para hacer el ejercicio\n",
        "from google.colab import files\n",
        "import pandas as pd\n",
        "import random\n",
        "uploaded = files.upload()"
      ],
      "execution_count": null,
      "outputs": [
        {
          "output_type": "display_data",
          "data": {
            "text/html": [
              "\n",
              "     <input type=\"file\" id=\"files-11c2dd0e-a0a5-4c90-9a1b-699e70e1503c\" name=\"files[]\" multiple disabled\n",
              "        style=\"border:none\" />\n",
              "     <output id=\"result-11c2dd0e-a0a5-4c90-9a1b-699e70e1503c\">\n",
              "      Upload widget is only available when the cell has been executed in the\n",
              "      current browser session. Please rerun this cell to enable.\n",
              "      </output>\n",
              "      <script src=\"/nbextensions/google.colab/files.js\"></script> "
            ],
            "text/plain": [
              "<IPython.core.display.HTML object>"
            ]
          },
          "metadata": {
            "tags": []
          }
        },
        {
          "output_type": "stream",
          "text": [
            "Saving ipc.xlsx to ipc (3).xlsx\n"
          ],
          "name": "stdout"
        }
      ]
    },
    {
      "cell_type": "code",
      "metadata": {
        "id": "QcmIWsaEQFcU",
        "colab_type": "code",
        "colab": {}
      },
      "source": [
        "#Escribir el nombre del archivo que se subio\n",
        "import io\n",
        "df = pd.read_excel(io.BytesIO(uploaded['ipc.xlsx']))"
      ],
      "execution_count": null,
      "outputs": []
    },
    {
      "cell_type": "markdown",
      "metadata": {
        "id": "b_7BwXpjPgHe",
        "colab_type": "text"
      },
      "source": [
        "Para las 7 acciones seleccionadas, calcula:  \n",
        "## Rendimiento esperado diario y anual bajo los siguientes modelos:  \n"
      ]
    },
    {
      "cell_type": "markdown",
      "metadata": {
        "id": "EJIgRmuMHKID",
        "colab_type": "text"
      },
      "source": [
        "### Modelo de rendimiento promedio constante  "
      ]
    },
    {
      "cell_type": "code",
      "metadata": {
        "id": "Xm2JDbBTPVtD",
        "colab_type": "code",
        "colab": {}
      },
      "source": [
        "df.set_index('DATE', inplace= True)"
      ],
      "execution_count": null,
      "outputs": []
    },
    {
      "cell_type": "code",
      "metadata": {
        "id": "rckEWD5oQ8Jh",
        "colab_type": "code",
        "colab": {}
      },
      "source": [
        "random.seed(200)\n",
        "sample = df.sample(7, axis = 1)"
      ],
      "execution_count": null,
      "outputs": []
    },
    {
      "cell_type": "code",
      "metadata": {
        "id": "od1k40fiRjRw",
        "colab_type": "code",
        "colab": {}
      },
      "source": [
        "rend = sample.pct_change(1).dropna()"
      ],
      "execution_count": null,
      "outputs": []
    },
    {
      "cell_type": "code",
      "metadata": {
        "id": "bBEjQkyxT2A4",
        "colab_type": "code",
        "colab": {
          "base_uri": "https://localhost:8080/",
          "height": 168
        },
        "outputId": "1e657cba-4120-4fcb-abb1-3ecdd256994c"
      },
      "source": [
        "print(\"Los rendimientos esperados diarios de las siguientes acciones son: \")\n",
        "rend.mean()"
      ],
      "execution_count": null,
      "outputs": [
        {
          "output_type": "stream",
          "text": [
            "Los rendimientos esperados diarios de las siguientes acciones son: \n"
          ],
          "name": "stdout"
        },
        {
          "output_type": "execute_result",
          "data": {
            "text/plain": [
              "AC* MF Equity         0.000062\n",
              "FEMSAUBD MF Equity    0.000185\n",
              "RA MF Equity          0.000321\n",
              "BIMBOA MF Equity     -0.000132\n",
              "TLEVICPO MF Equity   -0.000547\n",
              "WALMEX* MF Equity     0.000327\n",
              "AMXL MF Equity        0.000348\n",
              "dtype: float64"
            ]
          },
          "metadata": {
            "tags": []
          },
          "execution_count": 308
        }
      ]
    },
    {
      "cell_type": "code",
      "metadata": {
        "id": "wolN3iJiRGXB",
        "colab_type": "code",
        "colab": {
          "base_uri": "https://localhost:8080/",
          "height": 168
        },
        "outputId": "0905db95-2c08-40aa-d25a-668b354ff205"
      },
      "source": [
        "print(\"Los rendimientos esperados anuales de las siguientes acciones son: \")\n",
        "rend.mean()*252"
      ],
      "execution_count": null,
      "outputs": [
        {
          "output_type": "stream",
          "text": [
            "Los rendimientos esperados anuales de las siguientes acciones son: \n"
          ],
          "name": "stdout"
        },
        {
          "output_type": "execute_result",
          "data": {
            "text/plain": [
              "AC* MF Equity         0.015670\n",
              "FEMSAUBD MF Equity    0.046561\n",
              "RA MF Equity          0.081001\n",
              "BIMBOA MF Equity     -0.033289\n",
              "TLEVICPO MF Equity   -0.137916\n",
              "WALMEX* MF Equity     0.082426\n",
              "AMXL MF Equity        0.087740\n",
              "dtype: float64"
            ]
          },
          "metadata": {
            "tags": []
          },
          "execution_count": 309
        }
      ]
    },
    {
      "cell_type": "markdown",
      "metadata": {
        "id": "FW0VMMhjUtK_",
        "colab_type": "text"
      },
      "source": [
        "###  Modelo CAPM "
      ]
    },
    {
      "cell_type": "markdown",
      "metadata": {
        "id": "dgzy9PMYXPME",
        "colab_type": "text"
      },
      "source": [
        "\n",
        "Utilizando la formula\n",
        "\n",
        "$\\beta_i = \\frac{\\text{Cov}(r_i, r_m)}{\\text{Var}(r_m)}$"
      ]
    },
    {
      "cell_type": "code",
      "metadata": {
        "id": "jOhPt_RNXRki",
        "colab_type": "code",
        "colab": {}
      },
      "source": [
        "rend['Market'] = df[['MEXBOL INDEX']].pct_change(1).dropna()"
      ],
      "execution_count": null,
      "outputs": []
    },
    {
      "cell_type": "code",
      "metadata": {
        "id": "C7QzGcohX-Jm",
        "colab_type": "code",
        "colab": {}
      },
      "source": [
        "matriz = rend.cov()/rend['Market'].var()"
      ],
      "execution_count": null,
      "outputs": []
    },
    {
      "cell_type": "markdown",
      "metadata": {
        "id": "w4K98lnAZGHY",
        "colab_type": "text"
      },
      "source": [
        "Las betas de cada uno de los activos financieros son:"
      ]
    },
    {
      "cell_type": "code",
      "metadata": {
        "id": "l9HsGsu4UpOm",
        "colab_type": "code",
        "colab": {
          "base_uri": "https://localhost:8080/",
          "height": 151
        },
        "outputId": "6be98fd5-4308-4acb-ab4f-1066eb485dc9"
      },
      "source": [
        "betas = matriz['Market'][0:7]\n",
        "print(betas)"
      ],
      "execution_count": null,
      "outputs": [
        {
          "output_type": "stream",
          "text": [
            "AC* MF Equity         0.612179\n",
            "FEMSAUBD MF Equity    0.791768\n",
            "RA MF Equity          0.746196\n",
            "BIMBOA MF Equity      0.917521\n",
            "TLEVICPO MF Equity    0.876959\n",
            "WALMEX* MF Equity     0.885452\n",
            "AMXL MF Equity        1.143297\n",
            "Name: Market, dtype: float64\n"
          ],
          "name": "stdout"
        }
      ]
    },
    {
      "cell_type": "markdown",
      "metadata": {
        "id": "U9XUQHUxaEJq",
        "colab_type": "text"
      },
      "source": [
        "La clasificación de las betas es:"
      ]
    },
    {
      "cell_type": "code",
      "metadata": {
        "id": "VyWt8xedZmKl",
        "colab_type": "code",
        "colab": {
          "base_uri": "https://localhost:8080/",
          "height": 151
        },
        "outputId": "9554dbb7-82db-41b2-fb19-dc5e8a2cfb42"
      },
      "source": [
        "betas.apply(lambda x: \"Acción agresiva\" if x > 1 else \"Acción pasiva\")"
      ],
      "execution_count": null,
      "outputs": [
        {
          "output_type": "execute_result",
          "data": {
            "text/plain": [
              "AC* MF Equity           Acción pasiva\n",
              "FEMSAUBD MF Equity      Acción pasiva\n",
              "RA MF Equity            Acción pasiva\n",
              "BIMBOA MF Equity        Acción pasiva\n",
              "TLEVICPO MF Equity      Acción pasiva\n",
              "WALMEX* MF Equity       Acción pasiva\n",
              "AMXL MF Equity        Acción agresiva\n",
              "Name: Market, dtype: object"
            ]
          },
          "metadata": {
            "tags": []
          },
          "execution_count": 313
        }
      ]
    },
    {
      "cell_type": "markdown",
      "metadata": {
        "id": "3cRx6ABwVHgB",
        "colab_type": "text"
      },
      "source": [
        "## Matriz de Varianza-Covarianza\n",
        "\n",
        "\n"
      ]
    },
    {
      "cell_type": "markdown",
      "metadata": {
        "id": "UcLHTR0FVSaW",
        "colab_type": "text"
      },
      "source": [
        "La matriz de varianza y convarianza de rendimientos diarios es:"
      ]
    },
    {
      "cell_type": "code",
      "metadata": {
        "id": "xLSDxoTpVK1E",
        "colab_type": "code",
        "colab": {
          "base_uri": "https://localhost:8080/",
          "height": 334
        },
        "outputId": "1236e2be-89b0-4dc6-805b-cd94a5ce59b6"
      },
      "source": [
        "rend.cov()"
      ],
      "execution_count": null,
      "outputs": [
        {
          "output_type": "execute_result",
          "data": {
            "text/html": [
              "<div>\n",
              "<style scoped>\n",
              "    .dataframe tbody tr th:only-of-type {\n",
              "        vertical-align: middle;\n",
              "    }\n",
              "\n",
              "    .dataframe tbody tr th {\n",
              "        vertical-align: top;\n",
              "    }\n",
              "\n",
              "    .dataframe thead th {\n",
              "        text-align: right;\n",
              "    }\n",
              "</style>\n",
              "<table border=\"1\" class=\"dataframe\">\n",
              "  <thead>\n",
              "    <tr style=\"text-align: right;\">\n",
              "      <th></th>\n",
              "      <th>AC* MF Equity</th>\n",
              "      <th>FEMSAUBD MF Equity</th>\n",
              "      <th>RA MF Equity</th>\n",
              "      <th>BIMBOA MF Equity</th>\n",
              "      <th>TLEVICPO MF Equity</th>\n",
              "      <th>WALMEX* MF Equity</th>\n",
              "      <th>AMXL MF Equity</th>\n",
              "      <th>Market</th>\n",
              "    </tr>\n",
              "  </thead>\n",
              "  <tbody>\n",
              "    <tr>\n",
              "      <th>AC* MF Equity</th>\n",
              "      <td>0.000159</td>\n",
              "      <td>0.000036</td>\n",
              "      <td>0.000034</td>\n",
              "      <td>0.000068</td>\n",
              "      <td>0.000027</td>\n",
              "      <td>0.000034</td>\n",
              "      <td>0.000040</td>\n",
              "      <td>0.000043</td>\n",
              "    </tr>\n",
              "    <tr>\n",
              "      <th>FEMSAUBD MF Equity</th>\n",
              "      <td>0.000036</td>\n",
              "      <td>0.000128</td>\n",
              "      <td>0.000042</td>\n",
              "      <td>0.000047</td>\n",
              "      <td>0.000039</td>\n",
              "      <td>0.000042</td>\n",
              "      <td>0.000051</td>\n",
              "      <td>0.000056</td>\n",
              "    </tr>\n",
              "    <tr>\n",
              "      <th>RA MF Equity</th>\n",
              "      <td>0.000034</td>\n",
              "      <td>0.000042</td>\n",
              "      <td>0.000239</td>\n",
              "      <td>0.000058</td>\n",
              "      <td>0.000030</td>\n",
              "      <td>0.000037</td>\n",
              "      <td>0.000039</td>\n",
              "      <td>0.000053</td>\n",
              "    </tr>\n",
              "    <tr>\n",
              "      <th>BIMBOA MF Equity</th>\n",
              "      <td>0.000068</td>\n",
              "      <td>0.000047</td>\n",
              "      <td>0.000058</td>\n",
              "      <td>0.000237</td>\n",
              "      <td>0.000057</td>\n",
              "      <td>0.000049</td>\n",
              "      <td>0.000061</td>\n",
              "      <td>0.000065</td>\n",
              "    </tr>\n",
              "    <tr>\n",
              "      <th>TLEVICPO MF Equity</th>\n",
              "      <td>0.000027</td>\n",
              "      <td>0.000039</td>\n",
              "      <td>0.000030</td>\n",
              "      <td>0.000057</td>\n",
              "      <td>0.000313</td>\n",
              "      <td>0.000019</td>\n",
              "      <td>0.000075</td>\n",
              "      <td>0.000062</td>\n",
              "    </tr>\n",
              "    <tr>\n",
              "      <th>WALMEX* MF Equity</th>\n",
              "      <td>0.000034</td>\n",
              "      <td>0.000042</td>\n",
              "      <td>0.000037</td>\n",
              "      <td>0.000049</td>\n",
              "      <td>0.000019</td>\n",
              "      <td>0.000215</td>\n",
              "      <td>0.000045</td>\n",
              "      <td>0.000063</td>\n",
              "    </tr>\n",
              "    <tr>\n",
              "      <th>AMXL MF Equity</th>\n",
              "      <td>0.000040</td>\n",
              "      <td>0.000051</td>\n",
              "      <td>0.000039</td>\n",
              "      <td>0.000061</td>\n",
              "      <td>0.000075</td>\n",
              "      <td>0.000045</td>\n",
              "      <td>0.000229</td>\n",
              "      <td>0.000081</td>\n",
              "    </tr>\n",
              "    <tr>\n",
              "      <th>Market</th>\n",
              "      <td>0.000043</td>\n",
              "      <td>0.000056</td>\n",
              "      <td>0.000053</td>\n",
              "      <td>0.000065</td>\n",
              "      <td>0.000062</td>\n",
              "      <td>0.000063</td>\n",
              "      <td>0.000081</td>\n",
              "      <td>0.000071</td>\n",
              "    </tr>\n",
              "  </tbody>\n",
              "</table>\n",
              "</div>"
            ],
            "text/plain": [
              "                    AC* MF Equity  FEMSAUBD MF Equity  ...  AMXL MF Equity    Market\n",
              "AC* MF Equity            0.000159            0.000036  ...        0.000040  0.000043\n",
              "FEMSAUBD MF Equity       0.000036            0.000128  ...        0.000051  0.000056\n",
              "RA MF Equity             0.000034            0.000042  ...        0.000039  0.000053\n",
              "BIMBOA MF Equity         0.000068            0.000047  ...        0.000061  0.000065\n",
              "TLEVICPO MF Equity       0.000027            0.000039  ...        0.000075  0.000062\n",
              "WALMEX* MF Equity        0.000034            0.000042  ...        0.000045  0.000063\n",
              "AMXL MF Equity           0.000040            0.000051  ...        0.000229  0.000081\n",
              "Market                   0.000043            0.000056  ...        0.000081  0.000071\n",
              "\n",
              "[8 rows x 8 columns]"
            ]
          },
          "metadata": {
            "tags": []
          },
          "execution_count": 314
        }
      ]
    },
    {
      "cell_type": "markdown",
      "metadata": {
        "id": "D4nAg6zTVdkK",
        "colab_type": "text"
      },
      "source": [
        "La matriz de varianza y covarianza de rendimientos anuales es:"
      ]
    },
    {
      "cell_type": "code",
      "metadata": {
        "id": "SLNv-G7VVQ4U",
        "colab_type": "code",
        "colab": {
          "base_uri": "https://localhost:8080/",
          "height": 334
        },
        "outputId": "9de3293b-78a3-4404-c1b8-9c22dee4356a"
      },
      "source": [
        "rend.cov()*252"
      ],
      "execution_count": null,
      "outputs": [
        {
          "output_type": "execute_result",
          "data": {
            "text/html": [
              "<div>\n",
              "<style scoped>\n",
              "    .dataframe tbody tr th:only-of-type {\n",
              "        vertical-align: middle;\n",
              "    }\n",
              "\n",
              "    .dataframe tbody tr th {\n",
              "        vertical-align: top;\n",
              "    }\n",
              "\n",
              "    .dataframe thead th {\n",
              "        text-align: right;\n",
              "    }\n",
              "</style>\n",
              "<table border=\"1\" class=\"dataframe\">\n",
              "  <thead>\n",
              "    <tr style=\"text-align: right;\">\n",
              "      <th></th>\n",
              "      <th>AC* MF Equity</th>\n",
              "      <th>FEMSAUBD MF Equity</th>\n",
              "      <th>RA MF Equity</th>\n",
              "      <th>BIMBOA MF Equity</th>\n",
              "      <th>TLEVICPO MF Equity</th>\n",
              "      <th>WALMEX* MF Equity</th>\n",
              "      <th>AMXL MF Equity</th>\n",
              "      <th>Market</th>\n",
              "    </tr>\n",
              "  </thead>\n",
              "  <tbody>\n",
              "    <tr>\n",
              "      <th>AC* MF Equity</th>\n",
              "      <td>0.039994</td>\n",
              "      <td>0.009032</td>\n",
              "      <td>0.008445</td>\n",
              "      <td>0.017120</td>\n",
              "      <td>0.006719</td>\n",
              "      <td>0.008629</td>\n",
              "      <td>0.009976</td>\n",
              "      <td>0.010913</td>\n",
              "    </tr>\n",
              "    <tr>\n",
              "      <th>FEMSAUBD MF Equity</th>\n",
              "      <td>0.009032</td>\n",
              "      <td>0.032347</td>\n",
              "      <td>0.010502</td>\n",
              "      <td>0.011953</td>\n",
              "      <td>0.009863</td>\n",
              "      <td>0.010560</td>\n",
              "      <td>0.012935</td>\n",
              "      <td>0.014115</td>\n",
              "    </tr>\n",
              "    <tr>\n",
              "      <th>RA MF Equity</th>\n",
              "      <td>0.008445</td>\n",
              "      <td>0.010502</td>\n",
              "      <td>0.060234</td>\n",
              "      <td>0.014623</td>\n",
              "      <td>0.007613</td>\n",
              "      <td>0.009333</td>\n",
              "      <td>0.009736</td>\n",
              "      <td>0.013303</td>\n",
              "    </tr>\n",
              "    <tr>\n",
              "      <th>BIMBOA MF Equity</th>\n",
              "      <td>0.017120</td>\n",
              "      <td>0.011953</td>\n",
              "      <td>0.014623</td>\n",
              "      <td>0.059816</td>\n",
              "      <td>0.014381</td>\n",
              "      <td>0.012253</td>\n",
              "      <td>0.015397</td>\n",
              "      <td>0.016357</td>\n",
              "    </tr>\n",
              "    <tr>\n",
              "      <th>TLEVICPO MF Equity</th>\n",
              "      <td>0.006719</td>\n",
              "      <td>0.009863</td>\n",
              "      <td>0.007613</td>\n",
              "      <td>0.014381</td>\n",
              "      <td>0.078753</td>\n",
              "      <td>0.004830</td>\n",
              "      <td>0.018967</td>\n",
              "      <td>0.015634</td>\n",
              "    </tr>\n",
              "    <tr>\n",
              "      <th>WALMEX* MF Equity</th>\n",
              "      <td>0.008629</td>\n",
              "      <td>0.010560</td>\n",
              "      <td>0.009333</td>\n",
              "      <td>0.012253</td>\n",
              "      <td>0.004830</td>\n",
              "      <td>0.054222</td>\n",
              "      <td>0.011409</td>\n",
              "      <td>0.015785</td>\n",
              "    </tr>\n",
              "    <tr>\n",
              "      <th>AMXL MF Equity</th>\n",
              "      <td>0.009976</td>\n",
              "      <td>0.012935</td>\n",
              "      <td>0.009736</td>\n",
              "      <td>0.015397</td>\n",
              "      <td>0.018967</td>\n",
              "      <td>0.011409</td>\n",
              "      <td>0.057781</td>\n",
              "      <td>0.020382</td>\n",
              "    </tr>\n",
              "    <tr>\n",
              "      <th>Market</th>\n",
              "      <td>0.010913</td>\n",
              "      <td>0.014115</td>\n",
              "      <td>0.013303</td>\n",
              "      <td>0.016357</td>\n",
              "      <td>0.015634</td>\n",
              "      <td>0.015785</td>\n",
              "      <td>0.020382</td>\n",
              "      <td>0.017827</td>\n",
              "    </tr>\n",
              "  </tbody>\n",
              "</table>\n",
              "</div>"
            ],
            "text/plain": [
              "                    AC* MF Equity  FEMSAUBD MF Equity  ...  AMXL MF Equity    Market\n",
              "AC* MF Equity            0.039994            0.009032  ...        0.009976  0.010913\n",
              "FEMSAUBD MF Equity       0.009032            0.032347  ...        0.012935  0.014115\n",
              "RA MF Equity             0.008445            0.010502  ...        0.009736  0.013303\n",
              "BIMBOA MF Equity         0.017120            0.011953  ...        0.015397  0.016357\n",
              "TLEVICPO MF Equity       0.006719            0.009863  ...        0.018967  0.015634\n",
              "WALMEX* MF Equity        0.008629            0.010560  ...        0.011409  0.015785\n",
              "AMXL MF Equity           0.009976            0.012935  ...        0.057781  0.020382\n",
              "Market                   0.010913            0.014115  ...        0.020382  0.017827\n",
              "\n",
              "[8 rows x 8 columns]"
            ]
          },
          "metadata": {
            "tags": []
          },
          "execution_count": 315
        }
      ]
    },
    {
      "cell_type": "markdown",
      "metadata": {
        "id": "nCrsPK4aXEvN",
        "colab_type": "text"
      },
      "source": [
        "## Utilizando los rendimientos esperados bajo el modelo CAPM, construye: "
      ]
    },
    {
      "cell_type": "code",
      "metadata": {
        "id": "Nzj8lad4_aAE",
        "colab_type": "code",
        "colab": {
          "base_uri": "https://localhost:8080/",
          "height": 151
        },
        "outputId": "716e571d-9448-41af-c8eb-480230c06150"
      },
      "source": [
        "from scipy.optimize import minimize \n",
        "import numpy as np\n",
        "import matplotlib.pyplot as plt \n",
        "rf = 5/100\n",
        "premio_riesgo = 10/100\n",
        "r_capm = rf + betas*premio_riesgo\n",
        "#Rendimientos esperados bajo CAPM\n",
        "r_capm"
      ],
      "execution_count": null,
      "outputs": [
        {
          "output_type": "execute_result",
          "data": {
            "text/plain": [
              "AC* MF Equity         0.111218\n",
              "FEMSAUBD MF Equity    0.129177\n",
              "RA MF Equity          0.124620\n",
              "BIMBOA MF Equity      0.141752\n",
              "TLEVICPO MF Equity    0.137696\n",
              "WALMEX* MF Equity     0.138545\n",
              "AMXL MF Equity        0.164330\n",
              "Name: Market, dtype: float64"
            ]
          },
          "metadata": {
            "tags": []
          },
          "execution_count": 321
        }
      ]
    },
    {
      "cell_type": "markdown",
      "metadata": {
        "id": "3oynRgVB_Vea",
        "colab_type": "text"
      },
      "source": [
        "### Frontera de carteras de mínima varianza y frontera eficiente / graficar "
      ]
    },
    {
      "cell_type": "markdown",
      "metadata": {
        "id": "ei1O3eWRgte9",
        "colab_type": "text"
      },
      "source": [
        "#### Con ventas en corto"
      ]
    },
    {
      "cell_type": "code",
      "metadata": {
        "id": "XcPWZen-oLH9",
        "colab_type": "code",
        "colab": {}
      },
      "source": [
        "matriz_cov = rend.drop('Market',axis = 1).cov()"
      ],
      "execution_count": null,
      "outputs": []
    },
    {
      "cell_type": "code",
      "metadata": {
        "id": "-rJtU6N4utxf",
        "colab_type": "code",
        "colab": {}
      },
      "source": [
        "#Obteniendo rendimientos esperados de -200% hasta 200%\n",
        "sim_ren = np.linspace(start=-2, stop = 2,num = 500)"
      ],
      "execution_count": null,
      "outputs": []
    },
    {
      "cell_type": "code",
      "metadata": {
        "id": "HHUghivuwD4p",
        "colab_type": "code",
        "colab": {}
      },
      "source": [
        "pesos_optimos = []\n",
        "rend_opt = []\n",
        "vol_opt = []\n",
        "for i in sim_ren:\n",
        "    constraints = [\n",
        "        {\"type\": \"eq\", \"fun\": lambda x: x.sum()- 1 },\n",
        "        {\"type\": \"eq\", \"fun\": lambda w: w.dot(r_capm) - i}\n",
        "    ]\n",
        "\n",
        "    port1 = minimize(lambda w: w.dot(matriz_cov).dot(w),np.random.random(7), constraints=constraints)\n",
        "    w_opt = port1.x\n",
        "    rend_opt.append( w_opt.dot(r_capm))\n",
        "    vol_opt.append(w_opt.dot(matriz_cov).dot(w_opt))\n",
        "    pesos_optimos.append(w_opt)"
      ],
      "execution_count": null,
      "outputs": []
    },
    {
      "cell_type": "markdown",
      "metadata": {
        "id": "kQCK_-rNAFD1",
        "colab_type": "text"
      },
      "source": [
        "Dibujando la frontera de minima varianza dado los rendimientos buscando mostrados anteriormente"
      ]
    },
    {
      "cell_type": "code",
      "metadata": {
        "id": "0vONcBsas1qo",
        "colab_type": "code",
        "colab": {
          "base_uri": "https://localhost:8080/",
          "height": 305
        },
        "outputId": "b82590c5-9de9-4fad-8db8-1d1ba513bf03"
      },
      "source": [
        "plt.scatter(vol_opt, rend_opt)\n",
        "plt.title(\"Frontera de minima varianza\")\n",
        "plt.xlabel(r\"$\\sigma^2_r$\", fontsize=13)\n",
        "plt.ylabel(\"E(r)\", fontsize=13);\n",
        "plt.show((25,10))"
      ],
      "execution_count": null,
      "outputs": [
        {
          "output_type": "display_data",
          "data": {
            "image/png": "[encoded data removed]",
            "text/plain": [
              "<Figure size 432x288 with 1 Axes>"
            ]
          },
          "metadata": {
            "tags": [],
            "needs_background": "light"
          }
        }
      ]
    },
    {
      "cell_type": "markdown",
      "metadata": {
        "id": "YEjMK7_jASfE",
        "colab_type": "text"
      },
      "source": [
        "Ahora bien, busquemos el portafolio global de minima varianza"
      ]
    },
    {
      "cell_type": "code",
      "metadata": {
        "id": "mAr9FGe1ARy1",
        "colab_type": "code",
        "colab": {}
      },
      "source": [
        "constraints = [\n",
        "    {\"type\": \"eq\", \"fun\": lambda x: x.sum()- 1 },\n",
        "\n",
        "]\n",
        "\n",
        "port1 = minimize(lambda w: w.dot(matriz_cov).dot(w),np.random.random(7), constraints=constraints)\n",
        "w_opt = port1.x\n",
        "rend_glob_opt = w_opt.dot(r_capm)\n",
        "vol_glob_opt = w_opt.dot(matriz_cov).dot(w_opt)\n"
      ],
      "execution_count": null,
      "outputs": []
    },
    {
      "cell_type": "markdown",
      "metadata": {
        "id": "Axz679evBMjU",
        "colab_type": "text"
      },
      "source": [
        "Los pesos del portafolio global de minima varianza son:"
      ]
    },
    {
      "cell_type": "code",
      "metadata": {
        "id": "L-Dqfyu3BLbW",
        "colab_type": "code",
        "colab": {
          "base_uri": "https://localhost:8080/",
          "height": 50
        },
        "outputId": "d1e84760-b51d-4ab7-e688-89bd936181c4"
      },
      "source": [
        "w_opt"
      ],
      "execution_count": null,
      "outputs": [
        {
          "output_type": "execute_result",
          "data": {
            "text/plain": [
              "array([ 0.00770564,  0.10670742, -0.33206163,  0.37138397, -0.03865502,\n",
              "        0.50275889,  0.38216074])"
            ]
          },
          "metadata": {
            "tags": []
          },
          "execution_count": 337
        }
      ]
    },
    {
      "cell_type": "markdown",
      "metadata": {
        "id": "104nKyY6BUEh",
        "colab_type": "text"
      },
      "source": [
        "Por lo que la frontera eficiente esta determinado por los siguientes portafolios"
      ]
    },
    {
      "cell_type": "code",
      "metadata": {
        "id": "7MufomXnB2JT",
        "colab_type": "code",
        "colab": {}
      },
      "source": [
        "rend_eficiente = np.array(rend_opt)[rend_opt> rend_glob_opt]\n",
        "vol_eficiente = np.array(vol_opt)[rend_opt> rend_glob_opt]"
      ],
      "execution_count": null,
      "outputs": []
    },
    {
      "cell_type": "code",
      "metadata": {
        "id": "6mJrVWAtA3cl",
        "colab_type": "code",
        "colab": {
          "base_uri": "https://localhost:8080/",
          "height": 305
        },
        "outputId": "633fbd11-1254-4807-8716-a8846a63b606"
      },
      "source": [
        "plt.scatter(vol_eficiente, rend_eficiente)\n",
        "plt.scatter(vol_glob_opt, rend_glob_opt,color='r')\n",
        "plt.title(\"Frontera de eficiente\")\n",
        "plt.xlabel(r\"$\\sigma^2_r$\", fontsize=13)\n",
        "plt.ylabel(\"E(r)\", fontsize=13);\n",
        "\n",
        "\n"
      ],
      "execution_count": null,
      "outputs": [
        {
          "output_type": "display_data",
          "data": {
            "image/png": "[encoded data removed]",
            "text/plain": [
              "<Figure size 432x288 with 1 Axes>"
            ]
          },
          "metadata": {
            "tags": [],
            "needs_background": "light"
          }
        }
      ]
    },
    {
      "cell_type": "markdown",
      "metadata": {
        "id": "sZVaaJG8gxsd",
        "colab_type": "text"
      },
      "source": [
        "#### Sin ventas en corto"
      ]
    },
    {
      "cell_type": "code",
      "metadata": {
        "colab_type": "code",
        "id": "F9M4OskiDwPi",
        "colab": {}
      },
      "source": [
        "#Obteniendo rendimientos esperados de -200% hasta 200%\n",
        "sim_ren = np.linspace(start=r_capm.min(), stop = r_capm.max(),num = 200)"
      ],
      "execution_count": null,
      "outputs": []
    },
    {
      "cell_type": "code",
      "metadata": {
        "colab_type": "code",
        "id": "9H8yL1rvDwPz",
        "colab": {}
      },
      "source": [
        "pesos_optimos = []\n",
        "rend_opt = []\n",
        "vol_opt = []\n",
        "for i in sim_ren:\n",
        "    constraints = [\n",
        "        {\"type\": \"eq\", \"fun\": lambda w: w.sum()- 1 },\n",
        "        {\"type\": \"eq\", \"fun\": lambda w: w.dot(r_capm) - i}\n",
        "    ]\n",
        "    bounds=[(0,None),(0,None),(0,None),(0,None),(0,None),(0,None),(0,None)]\n",
        "\n",
        "    port1 = minimize(lambda w: np.sqrt(w.dot(matriz_cov*252).dot(w)) ,np.random.random(7), constraints=constraints, bounds = bounds)\n",
        "    w_opt = port1.x\n",
        "    rend_opt.append( w_opt.dot(r_capm))\n",
        "    vol_opt.append( np.sqrt(w_opt.dot(matriz_cov*252).dot(w_opt)))\n",
        "    pesos_optimos.append(w_opt)"
      ],
      "execution_count": null,
      "outputs": []
    },
    {
      "cell_type": "code",
      "metadata": {
        "id": "hR46zOW7Mmcg",
        "colab_type": "code",
        "colab": {}
      },
      "source": [
        ""
      ],
      "execution_count": null,
      "outputs": []
    },
    {
      "cell_type": "markdown",
      "metadata": {
        "colab_type": "text",
        "id": "woQkXaePDwP5"
      },
      "source": [
        "Dibujando la frontera de minima varianza dado los rendimientos buscando mostrados anteriormente"
      ]
    },
    {
      "cell_type": "code",
      "metadata": {
        "colab_type": "code",
        "id": "RsMWv6TkDwP7",
        "colab": {
          "base_uri": "https://localhost:8080/",
          "height": 305
        },
        "outputId": "073adeb5-f624-4a26-95a6-fc2f3deb8a70"
      },
      "source": [
        "plt.scatter(vol_opt, rend_opt)\n",
        "plt.title(\"Frontera de minima varianza\")\n",
        "plt.xlabel(r\"$\\sigma^2_r$\", fontsize=13)\n",
        "plt.ylabel(\"E(r)\", fontsize=13);\n",
        "plt.show((25,10))"
      ],
      "execution_count": null,
      "outputs": [
        {
          "output_type": "display_data",
          "data": {
            "image/png": "[encoded data removed]",
            "text/plain": [
              "<Figure size 432x288 with 1 Axes>"
            ]
          },
          "metadata": {
            "tags": [],
            "needs_background": "light"
          }
        }
      ]
    },
    {
      "cell_type": "markdown",
      "metadata": {
        "colab_type": "text",
        "id": "zwGRAk1LDwQC"
      },
      "source": [
        "Ahora bien, busquemos el portafolio global de minima varianza"
      ]
    },
    {
      "cell_type": "code",
      "metadata": {
        "colab_type": "code",
        "id": "aJqQmI8eDwQD",
        "colab": {}
      },
      "source": [
        "constraints = [\n",
        "    {\"type\": \"eq\", \"fun\": lambda w: w.sum()- 1},\n",
        "\n",
        "]\n",
        "bounds=[(0,None),(0,None),(0,None),(0,None),(0,None),(0,None),(0,None)]\n",
        "port1 = minimize(lambda w: np.sqrt(w.dot(matriz_cov*252).dot(w)) ,np.random.random(7), constraints=constraints,bounds = bounds)\n",
        "w_opt = port1.x\n",
        "rend_glob_opt = w_opt.dot(r_capm)\n",
        "vol_glob_opt = np.sqrt(w_opt.dot(matriz_cov*252).dot(w_opt)) \n"
      ],
      "execution_count": null,
      "outputs": []
    },
    {
      "cell_type": "markdown",
      "metadata": {
        "colab_type": "text",
        "id": "woxYivn2DwQR"
      },
      "source": [
        "Por lo que la frontera eficiente esta determinado por los siguientes portafolios"
      ]
    },
    {
      "cell_type": "code",
      "metadata": {
        "colab_type": "code",
        "id": "7H0KMj1BDwQT",
        "colab": {}
      },
      "source": [
        "rend_eficiente = np.array(rend_opt)[rend_opt> rend_glob_opt]\n",
        "vol_eficiente = np.array(vol_opt)[rend_opt> rend_glob_opt]\n",
        "pesos_optimos = np.array(pesos_optimos)[rend_opt> rend_glob_opt]"
      ],
      "execution_count": null,
      "outputs": []
    },
    {
      "cell_type": "code",
      "metadata": {
        "colab_type": "code",
        "id": "cBN4TszIDwQZ",
        "colab": {
          "base_uri": "https://localhost:8080/",
          "height": 305
        },
        "outputId": "5b98c449-f06d-421e-fad5-ddaef0c9fd27"
      },
      "source": [
        "plt.scatter(vol_eficiente, rend_eficiente)\n",
        "plt.scatter(vol_glob_opt, rend_glob_opt,color='r')\n",
        "plt.title(\"Frontera de eficiente\")\n",
        "plt.xlabel(r\"$\\sigma_r$\", fontsize=13)\n",
        "plt.ylabel(\"E(r)\", fontsize=13);\n",
        "\n",
        "\n"
      ],
      "execution_count": null,
      "outputs": [
        {
          "output_type": "display_data",
          "data": {
            "image/png": "[encoded data removed]",
            "text/plain": [
              "<Figure size 432x288 with 1 Axes>"
            ]
          },
          "metadata": {
            "tags": [],
            "needs_background": "light"
          }
        }
      ]
    },
    {
      "cell_type": "markdown",
      "metadata": {
        "id": "d4bjArHDG9Sk",
        "colab_type": "text"
      },
      "source": [
        "### Encuentra el portafolio riesgoso óptimo (maximiza el coeficiente de Sharpe)"
      ]
    },
    {
      "cell_type": "markdown",
      "metadata": {
        "id": "8-AGY5TNMDuA",
        "colab_type": "text"
      },
      "source": [
        "De nuestra frontera eficiente, veamos cual es el que portafolio que tiene el máximo coeficiente de sharpe"
      ]
    },
    {
      "cell_type": "markdown",
      "metadata": {
        "id": "n6vRethBQdLb",
        "colab_type": "text"
      },
      "source": [
        "El portafolio con el coefiente de sharpe más alto es: "
      ]
    },
    {
      "cell_type": "code",
      "metadata": {
        "id": "UOARtMbzMIuD",
        "colab_type": "code",
        "colab": {
          "base_uri": "https://localhost:8080/",
          "height": 50
        },
        "outputId": "0a14734f-003e-48d9-fd37-9b32b5b5dfa7"
      },
      "source": [
        "indice =  ((rend_eficiente - rf)/vol_eficiente).argmax()\n",
        "pesos_optimos[indice,:]"
      ],
      "execution_count": null,
      "outputs": [
        {
          "output_type": "execute_result",
          "data": {
            "text/plain": [
              "array([0.0857202 , 0.22366408, 0.09748128, 0.09820673, 0.09730246,\n",
              "       0.17556271, 0.22206254])"
            ]
          },
          "metadata": {
            "tags": []
          },
          "execution_count": 512
        }
      ]
    },
    {
      "cell_type": "markdown",
      "metadata": {
        "id": "K2XyX9HAQkE1",
        "colab_type": "text"
      },
      "source": [
        "con un coeficiente de"
      ]
    },
    {
      "cell_type": "code",
      "metadata": {
        "id": "Nscxd_L5MNsj",
        "colab_type": "code",
        "colab": {
          "base_uri": "https://localhost:8080/",
          "height": 34
        },
        "outputId": "c700e9c4-5091-47f1-89ca-52ffa01d51ce"
      },
      "source": [
        "coef =((rend_eficiente - rf)/vol_eficiente).max()\n",
        "coef"
      ],
      "execution_count": null,
      "outputs": [
        {
          "output_type": "execute_result",
          "data": {
            "text/plain": [
              "0.6650821373901596"
            ]
          },
          "metadata": {
            "tags": []
          },
          "execution_count": 526
        }
      ]
    },
    {
      "cell_type": "code",
      "metadata": {
        "id": "Rvsz-i2UIFL0",
        "colab_type": "code",
        "colab": {
          "base_uri": "https://localhost:8080/",
          "height": 298
        },
        "outputId": "4f722dd1-7b36-434e-a4a3-c046df157877"
      },
      "source": [
        "sigma_c =  np.linspace(0.1, 0.2)\n",
        "sharpe = rf + sigma_c * coef\n",
        "\n",
        "plt.scatter(vol_eficiente, rend_eficiente)\n",
        "plt.scatter(vol_glob_opt, rend_glob_opt,color='r')\n",
        "plt.scatter(vol_eficiente[indice],rend_eficiente[indice] ,color='black')\n",
        "\n",
        "plt.plot(sigma_c, sharpe, linestyle=\"-\", c=\"tab:red\", label=\"Capital Allocation Line\")\n",
        "plt.legend(fontsize=12)\n",
        "plt.title(\"Frontera de eficiente\")\n",
        "plt.xlabel(r\"$\\sigma_r$\", fontsize=13)\n",
        "plt.ylabel(\"E(r)\", fontsize=13);"
      ],
      "execution_count": null,
      "outputs": [
        {
          "output_type": "display_data",
          "data": {
            "image/png": "[encoded data removed]",
            "text/plain": [
              "<Figure size 432x288 with 1 Axes>"
            ]
          },
          "metadata": {
            "tags": [],
            "needs_background": "light"
          }
        }
      ]
    },
    {
      "cell_type": "markdown",
      "metadata": {
        "id": "2TrW27fZRv-5",
        "colab_type": "text"
      },
      "source": [
        "## Calcula el VaR paramétrico del portafolio riesgoso óptimo (1 día, 95% de confianza) "
      ]
    },
    {
      "cell_type": "markdown",
      "metadata": {
        "id": "dVvQ2-6ZSe9R",
        "colab_type": "text"
      },
      "source": [
        "Si suponemos un capital invertido de $1,000,000 tenemos que el VaR de un día al 95% es de"
      ]
    },
    {
      "cell_type": "code",
      "metadata": {
        "id": "EyoA8w3HS25_",
        "colab_type": "code",
        "colab": {}
      },
      "source": [
        " from scipy.special import ndtri"
      ],
      "execution_count": null,
      "outputs": []
    },
    {
      "cell_type": "code",
      "metadata": {
        "id": "-hYOOsJZSeGq",
        "colab_type": "code",
        "colab": {}
      },
      "source": [
        "confianza = 0.95\n",
        "quantil = ndtri(confianza)"
      ],
      "execution_count": null,
      "outputs": []
    },
    {
      "cell_type": "code",
      "metadata": {
        "id": "9h55cwocTBvk",
        "colab_type": "code",
        "colab": {}
      },
      "source": [
        "capital = 1000000"
      ],
      "execution_count": null,
      "outputs": []
    },
    {
      "cell_type": "code",
      "metadata": {
        "id": "GmJgNN64S2aY",
        "colab_type": "code",
        "colab": {
          "base_uri": "https://localhost:8080/",
          "height": 34
        },
        "outputId": "6dfb8f8d-d79c-4969-fab8-1e19b15b5e26"
      },
      "source": [
        "VaR = vol_eficiente[indice]/np.sqrt(252) * quantil * capital\n",
        "VaR"
      ],
      "execution_count": null,
      "outputs": [
        {
          "output_type": "execute_result",
          "data": {
            "text/plain": [
              "13820.19251150688"
            ]
          },
          "metadata": {
            "tags": []
          },
          "execution_count": 534
        }
      ]
    },
    {
      "cell_type": "code",
      "metadata": {
        "id": "Qijo1mabTqJp",
        "colab_type": "code",
        "colab": {}
      },
      "source": [
        ""
      ],
      "execution_count": null,
      "outputs": []
    }
  ]
}